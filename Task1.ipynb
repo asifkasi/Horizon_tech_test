{
 "cells": [
  {
   "cell_type": "code",
   "execution_count": 2,
   "metadata": {},
   "outputs": [],
   "source": [
    "import sqlalchemy as db"
   ]
  },
  {
   "cell_type": "code",
   "execution_count": 9,
   "metadata": {},
   "outputs": [
    {
     "name": "stdout",
     "output_type": "stream",
     "text": [
      "(1, 'Ali', 'M', 12507384957, 'Ontario', '04/07/2022')\n",
      "(2, 'Salima', 'F', 12506482904, 'British Columbia', '06/07/2022')\n",
      "(3, 'Ahmed', 'M', 12507483947, 'Ontario', '06/07/2022')\n",
      "(4, 'Sania', 'F', 12502748001, 'Ontario', '07/07/2022')\n",
      "(5, 'Sana', 'F', 12505832224, 'Ontario', '08/07/2022')\n",
      "(6, 'Imran', 'M', 12505099922, 'British Columbia', '12/07/2022')\n",
      "(7, 'Rizwan', 'M', 12505992244, 'Ontarioo', '12/08/2022')\n",
      "(8, 'Sara', 'F', 12505992343, 'Ontario', '12/08/2022')\n",
      "(9, 'Alisha', 'F', 12505998573, 'British Columbia', '13/08/2022')\n",
      "(10, 'Yasmeen', 'F', 12505998239, 'British Columbia', '14/08/2022')\n"
     ]
    }
   ],
   "source": [
    "host  = \"127.0.0.1\"\n",
    "username = \"root\"\n",
    "password = \"admin\" # Mysql password\n",
    "db_name = \"test\" # MySQL DB name\n",
    "port = 3306\n",
    "\n",
    "db_connection_str=f\"mysql+pymysql://{username}:{password}@{host}:{port}\"\n",
    "sqlEngine = db.create_engine(db_connection_str)\n",
    "\n",
    "with sqlEngine.connect() as con:\n",
    "\n",
    "    rs = con.execute('SELECT * FROM test.patient_info')\n",
    "    for row in rs:\n",
    "        print(row)"
   ]
  }
 ],
 "metadata": {
  "kernelspec": {
   "display_name": "Python 3.10.5 64-bit",
   "language": "python",
   "name": "python3"
  },
  "language_info": {
   "codemirror_mode": {
    "name": "ipython",
    "version": 3
   },
   "file_extension": ".py",
   "mimetype": "text/x-python",
   "name": "python",
   "nbconvert_exporter": "python",
   "pygments_lexer": "ipython3",
   "version": "3.10.5"
  },
  "orig_nbformat": 4,
  "vscode": {
   "interpreter": {
    "hash": "26de051ba29f2982a8de78e945f0abaf191376122a1563185a90213a26c5da77"
   }
  }
 },
 "nbformat": 4,
 "nbformat_minor": 2
}
